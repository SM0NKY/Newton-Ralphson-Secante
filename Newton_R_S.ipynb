{
 "cells": [
  {
   "cell_type": "code",
   "execution_count": 77,
   "metadata": {},
   "outputs": [],
   "source": [
    "from typing import Optional,Any,Literal\n",
    "import pandas as pd\n",
    "from sympy import pi,symbols,diff,init_printing,nsimplify,Rational,sympify,substitution,simplify,evalf"
   ]
  },
  {
   "cell_type": "markdown",
   "metadata": {},
   "source": [
    "\n",
    "# Problema\n",
    "\n",
    "Un fabricante de botellas desea calcular el diametro D de la base de una botella cónica, dado que tiene un volumen ($V$) deseado y una altura ($h$). Siendo la formula del cono la siguiente:\n",
    "\n",
    "$$V = \\frac{1}{3} \\pi (\\frac{D}{2})^2 h$$\n",
    " "
   ]
  },
  {
   "cell_type": "markdown",
   "metadata": {},
   "source": [
    "# Datos\n",
    "## Se proporcionan los siguientes datos\n",
    "\n",
    "**Volumen deseado (V)** = $1.5x10^{-3}$ $m^3$ \n",
    "\n",
    "**Altura de botella (h)** = $0.3m$ "
   ]
  },
  {
   "cell_type": "markdown",
   "metadata": {},
   "source": [
    "# Instrucciones\n",
    "\n",
    "**Se trabajarará con la siguiente función, que se pide como entrada**\n",
    "$$ f(D) = \\frac{1}{3} \\pi (\\frac{D}{2})^2 h - V$$\n",
    "\n"
   ]
  },
  {
   "cell_type": "code",
   "execution_count": 78,
   "metadata": {},
   "outputs": [],
   "source": [
    "#Se pide el valor de la función#\n",
    "f_D:str = input(\"Ingresa una funcion en terminos de 3 variables, D,h y V\")\n"
   ]
  },
  {
   "cell_type": "code",
   "execution_count": 79,
   "metadata": {},
   "outputs": [
    {
     "data": {
      "image/png": "[encoded data removed]",
      "text/latex": [
       "$\\displaystyle \\frac{\\pi D^{2} h}{12} - V$"
      ],
      "text/plain": [
       "   2      \n",
       "π⋅D ⋅h    \n",
       "────── - V\n",
       "  12      "
      ]
     },
     "execution_count": 79,
     "metadata": {},
     "output_type": "execute_result"
    }
   ],
   "source": [
    "#Se convierte el arreglo de caracteres en una funcion simbolica#\n",
    "f_Ds = sympify(f_D)\n",
    "f_Ds"
   ]
  },
  {
   "cell_type": "markdown",
   "metadata": {},
   "source": [
    "# Metodo Newton-Ralphson\n",
    "\n",
    "Se trabajara con $D_0 = 0.3 m$\n",
    "\n",
    "Primero definimos las variables simbolicas y además ocuparemos tambien derivar la funcion antes de inicializar las iteraciones"
   ]
  },
  {
   "cell_type": "code",
   "execution_count": 80,
   "metadata": {},
   "outputs": [],
   "source": [
    "init_printing()\n",
    "#Se definen las variables simbolicas#\n",
    "D,h,V = symbols('D h V')\n",
    "#funcion_volumen = 1/3*pi*(D/2)**2*h-V\n"
   ]
  },
  {
   "cell_type": "markdown",
   "metadata": {},
   "source": [
    "Procedemos a derivar la función respecto a $D$"
   ]
  },
  {
   "cell_type": "code",
   "execution_count": 81,
   "metadata": {},
   "outputs": [
    {
     "data": {
      "image/png": "[encoded data removed]",
      "text/latex": [
       "$\\displaystyle \\frac{\\pi D h}{6}$"
      ],
      "text/plain": [
       "π⋅D⋅h\n",
       "─────\n",
       "  6  "
      ]
     },
     "execution_count": 81,
     "metadata": {},
     "output_type": "execute_result"
    }
   ],
   "source": [
    "derivada_volumen = diff(f_Ds,D)\n",
    "derivada_volumen"
   ]
  },
  {
   "cell_type": "markdown",
   "metadata": {},
   "source": [
    "# Iteraciones\n",
    "\n",
    "Ahora realizamos el ciclo para obtener el valor del Volmen optimo, manteniendo fijo el valor de $V$ y $h$\n",
    "\n",
    "- Definimos los valores en arreglos para imprimirlos en una tabla\n",
    "- Definimos un ciclo while, con un error con el valor real y con el actual, ademas de añadir los valores recopilados de las variables a los arreglos\n",
    "- Imprimimos la tabla con los resultados"
   ]
  },
  {
   "cell_type": "code",
   "execution_count": 82,
   "metadata": {},
   "outputs": [],
   "source": [
    "# Valor real\n",
    "valor_real:float = 0.138\n",
    "\n",
    "\n",
    "# Arreglos/Listas para la tabla\n",
    "iteraciones:int = []\n",
    "valores_xi:list = []\n",
    "f_x:list = []\n",
    "f_dx:list = []\n",
    "\n",
    "Error_vr:list = []\n",
    "Error_va:list = []\n"
   ]
  },
  {
   "cell_type": "markdown",
   "metadata": {},
   "source": [
    "# Input \n",
    "**Se solicita un valor inicial con input**\n"
   ]
  },
  {
   "cell_type": "code",
   "execution_count": 83,
   "metadata": {},
   "outputs": [],
   "source": [
    "#Se define un valor inicial a Xi\n",
    "Xi = float(input('Define un valor inicial a Xi'))"
   ]
  },
  {
   "cell_type": "markdown",
   "metadata": {},
   "source": [
    "**Se solicita una tolerancia**"
   ]
  },
  {
   "cell_type": "code",
   "execution_count": 84,
   "metadata": {},
   "outputs": [],
   "source": [
    "#Input que convierte el string de la tolerancia en un valor double, o flotante\n",
    "tolerancia = float(input('Ingresa el valor de la tolerancia Ej.(0.01)'))"
   ]
  },
  {
   "cell_type": "code",
   "execution_count": 85,
   "metadata": {},
   "outputs": [],
   "source": [
    "def newton_raphson() -> None:\n",
    "    # Se define Xi con el valor que nos piden (0.3), para saber si ya encontramos el valor que buscamos, \n",
    "    # y utilizamos el error tambien\n",
    "    value = Xi\n",
    "    iteracion:int = 0\n",
    "    Er:float|int= 1\n",
    "\n",
    "    while Er > tolerancia:\n",
    "        \n",
    "        #Se agrega una iteracion y se agrega a la lista#\n",
    "        \n",
    "        iteracion += 1\n",
    "        print(iteracion)\n",
    "\n",
    "        iteraciones.append(iteracion)\n",
    "\n",
    "\n",
    "        #Se evalua Xi y se agregan a la lista#\n",
    "        f_xv = f_Ds.subs({D : value,V : 1.5e-3,h : 0.3}).evalf()\n",
    "        f_x.append(f_xv)\n",
    "\n",
    "        f_dxv = simplify(derivada_volumen.subs({D:value, h:0.3})).evalf()\n",
    "        f_dx.append(f_dxv)\n",
    "\n",
    "\n",
    "        #Se calcula el nuevo valor de Xi y se agrega el valor anterior de Xi a la lista utilizando\n",
    "        # Newton Raphson \n",
    "        valor_anterior = value\n",
    "        \n",
    "        valores_xi.append(value)\n",
    "        \n",
    "        nuevo_valor = value - (f_xv/f_dxv)\n",
    "        \n",
    "        value = nuevo_valor\n",
    "        \n",
    "        #Se calcula el error con el valor real y el anterior\n",
    "\n",
    "        if iteracion > 1:\n",
    "            #Error con valor anterior\n",
    "            \n",
    "            Ea = abs((nuevo_valor - valor_anterior)/nuevo_valor)\n",
    "            Er = abs((nuevo_valor - valor_real)/valor_real)\n",
    "        \n",
    "            Error_va.append(Ea)\n",
    "            Error_vr.append(Er)\n",
    "\n",
    "        elif iteracion == 1:\n",
    "            Error_va.append(\"None\")\n",
    "            Error_vr.append(\"None\")\n",
    "\n",
    "\n",
    "        print(f_xv,nuevo_valor)\n"
   ]
  },
  {
   "cell_type": "code",
   "execution_count": 86,
   "metadata": {},
   "outputs": [
    {
     "name": "stdout",
     "output_type": "stream",
     "text": [
      "1\n",
      "0.00556858347057703 0.181830988618379\n",
      "2\n",
      "0.00109672333919021 0.143432926338091\n",
      "3\n",
      "0.000115799983826888 0.138293202759540\n"
     ]
    }
   ],
   "source": [
    "newton_raphson()"
   ]
  },
  {
   "cell_type": "code",
   "execution_count": 87,
   "metadata": {},
   "outputs": [
    {
     "data": {
      "image/png": "[encoded data removed]",
      "text/latex": [
       "$\\displaystyle \\left[ 1, \\  2, \\  3\\right]$"
      ],
      "text/plain": [
       "[1, 2, 3]"
      ]
     },
     "execution_count": 87,
     "metadata": {},
     "output_type": "execute_result"
    }
   ],
   "source": [
    "iteraciones"
   ]
  },
  {
   "cell_type": "code",
   "execution_count": 88,
   "metadata": {},
   "outputs": [
    {
     "data": {
      "text/html": [
       "<div>\n",
       "<style scoped>\n",
       "    .dataframe tbody tr th:only-of-type {\n",
       "        vertical-align: middle;\n",
       "    }\n",
       "\n",
       "    .dataframe tbody tr th {\n",
       "        vertical-align: top;\n",
       "    }\n",
       "\n",
       "    .dataframe thead th {\n",
       "        text-align: right;\n",
       "    }\n",
       "</style>\n",
       "<table border=\"1\" class=\"dataframe\">\n",
       "  <thead>\n",
       "    <tr style=\"text-align: right;\">\n",
       "      <th></th>\n",
       "      <th>Iteracion</th>\n",
       "      <th>Valores Diametro</th>\n",
       "      <th>Valores f(d)</th>\n",
       "      <th>Valores f'(d)</th>\n",
       "      <th>Error v_real</th>\n",
       "      <th>Error v_anterior</th>\n",
       "    </tr>\n",
       "  </thead>\n",
       "  <tbody>\n",
       "    <tr>\n",
       "      <th>0</th>\n",
       "      <td>1</td>\n",
       "      <td>0.3</td>\n",
       "      <td>0.00556858347057703</td>\n",
       "      <td>0.0471238898038469</td>\n",
       "      <td>None</td>\n",
       "      <td>None</td>\n",
       "    </tr>\n",
       "    <tr>\n",
       "      <th>1</th>\n",
       "      <td>2</td>\n",
       "      <td>0.181830988618379</td>\n",
       "      <td>0.00109672333919021</td>\n",
       "      <td>0.0285619449019234</td>\n",
       "      <td>0.0393690314354437</td>\n",
       "      <td>0.267707445288945</td>\n",
       "    </tr>\n",
       "    <tr>\n",
       "      <th>2</th>\n",
       "      <td>3</td>\n",
       "      <td>0.143432926338091</td>\n",
       "      <td>0.000115799983826888</td>\n",
       "      <td>0.0225303913833317</td>\n",
       "      <td>0.00212465767782895</td>\n",
       "      <td>0.0371654099839427</td>\n",
       "    </tr>\n",
       "  </tbody>\n",
       "</table>\n",
       "</div>"
      ],
      "text/plain": [
       "   Iteracion   Valores Diametro          Valores f(d)       Valores f'(d)  \\\n",
       "0          1                0.3   0.00556858347057703  0.0471238898038469   \n",
       "1          2  0.181830988618379   0.00109672333919021  0.0285619449019234   \n",
       "2          3  0.143432926338091  0.000115799983826888  0.0225303913833317   \n",
       "\n",
       "          Error v_real    Error v_anterior  \n",
       "0                 None                None  \n",
       "1   0.0393690314354437   0.267707445288945  \n",
       "2  0.00212465767782895  0.0371654099839427  "
      ]
     },
     "execution_count": 88,
     "metadata": {},
     "output_type": "execute_result"
    }
   ],
   "source": [
    "pd.DataFrame({\"Iteracion\":iteraciones,\"Valores Diametro\":valores_xi,\"Valores f(d)\":f_x,\"Valores f'(d)\":f_dx,\"Error v_real\":Error_vr,\"Error v_anterior\":Error_va})"
   ]
  },
  {
   "cell_type": "code",
   "execution_count": 89,
   "metadata": {},
   "outputs": [],
   "source": [
    "import seaborn as sb\n",
    "import matplotlib.pyplot as plt"
   ]
  },
  {
   "cell_type": "code",
   "execution_count": 90,
   "metadata": {},
   "outputs": [],
   "source": [
    "df = pd.DataFrame({'Iteraciones':iteraciones,'Valores':valores_xi})\n",
    "df[\"Iteraciones\"] = df[\"Iteraciones\"].astype(float)\n",
    "df[\"Valores\"] = df[\"Valores\"].astype(float)\n"
   ]
  },
  {
   "cell_type": "code",
   "execution_count": 91,
   "metadata": {},
   "outputs": [
    {
     "data": {
      "image/png": "[encoded data removed]",
      "text/plain": [
       "<Figure size 640x480 with 1 Axes>"
      ]
     },
     "metadata": {},
     "output_type": "display_data"
    }
   ],
   "source": [
    "sb.lineplot(x='Iteraciones',y = 'Valores',data= df)\n",
    "plt.show()"
   ]
  },
  {
   "cell_type": "markdown",
   "metadata": {},
   "source": [
    "# Metodo de la Secante \n",
    "\n",
    "**Se define a continuacion la función que utiliza la secante como método**"
   ]
  },
  {
   "cell_type": "markdown",
   "metadata": {},
   "source": [
    "Se almacenan los datos en el siguiente arreglo"
   ]
  },
  {
   "cell_type": "code",
   "execution_count": null,
   "metadata": {},
   "outputs": [],
   "source": [
    "iteraciones_secante:list = []\n",
    "valores_xi_sec:list = []\n",
    "f_x_secante:list =[]\n",
    "f_dx_secante:list = []\n",
    "\n",
    "Error_vr_secante:list = []\n",
    "Error_va_secante:list = []\n"
   ]
  },
  {
   "cell_type": "code",
   "execution_count": null,
   "metadata": {},
   "outputs": [],
   "source": [
    "def secante() -> None:\n",
    "    value = Xi\n",
    "    iteracion:int = 0\n",
    "    Er:float|int = 1\n",
    "\n",
    "    while Er > tolerancia:\n",
    "\n",
    "        #Se agrega una iteracion y se agrega a la lista#\n",
    "        iteracion += 1\n",
    "        print(iteracion)\n",
    "\n",
    "        iteraciones_secante.append(iteracion)\n",
    "\n",
    "        # Se evalua Xi y se agrega a la lista #\n",
    "        \n",
    "\n",
    "\n"
   ]
  }
 ],
 "metadata": {
  "kernelspec": {
   "display_name": "Python 3",
   "language": "python",
   "name": "python3"
  },
  "language_info": {
   "codemirror_mode": {
    "name": "ipython",
    "version": 3
   },
   "file_extension": ".py",
   "mimetype": "text/x-python",
   "name": "python",
   "nbconvert_exporter": "python",
   "pygments_lexer": "ipython3",
   "version": "3.13.1"
  }
 },
 "nbformat": 4,
 "nbformat_minor": 2
}
