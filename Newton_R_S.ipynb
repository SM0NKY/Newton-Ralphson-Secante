{
 "cells": [
  {
   "cell_type": "code",
   "execution_count": 445,
   "metadata": {},
   "outputs": [],
   "source": [
    "from typing import Optional,Any,Literal\n",
    "import pandas as pd\n",
    "from sympy import pi,symbols,diff,init_printing,nsimplify,Rational,sympify,substitution,simplify,evalf"
   ]
  },
  {
   "cell_type": "markdown",
   "metadata": {},
   "source": [
    "\n",
    "# Problema\n",
    "\n",
    "Un fabricante de botellas desea calcular el diametro D de la base de una botella cónica, dado que tiene un volumen ($V$) deseado y una altura ($h$). Siendo la formula del cono la siguiente:\n",
    "\n",
    "$$V = \\frac{1}{3} \\pi (\\frac{D}{2})^2 h$$\n",
    " "
   ]
  },
  {
   "cell_type": "markdown",
   "metadata": {},
   "source": [
    "# Datos\n",
    "## Se nos proporcionan los siguientes datos\n",
    "\n",
    "**Volumen deseado (V)** = $1.5x10^{-3}$ $m^3$ \n",
    "\n",
    "**Altura de botella (h)** = $0.3m$ "
   ]
  },
  {
   "cell_type": "markdown",
   "metadata": {},
   "source": [
    "# Instrucciones\n",
    "\n",
    "**Se trabajarará con la función**\n",
    "$$ f(D) = \\frac{1}{3} \\pi (\\frac{D}{2})^2 h - V$$"
   ]
  },
  {
   "cell_type": "markdown",
   "metadata": {},
   "source": [
    "# Metodo Newton-Ralphson\n",
    "\n",
    "Se trabajara con $D_0 = 0.3 m$\n",
    "\n",
    "Primero definimos las variables simbolicas y además ocuparemos tambien derivar la funcion antes de inicializar las iteraciones"
   ]
  },
  {
   "cell_type": "code",
   "execution_count": 446,
   "metadata": {},
   "outputs": [],
   "source": [
    "init_printing()\n",
    "#Se definen las variables simbolicas#\n",
    "D,h,V = symbols('D h V')\n",
    "funcion_volumen = 1/3*pi*(D/2)**2*h-V\n"
   ]
  },
  {
   "cell_type": "markdown",
   "metadata": {},
   "source": [
    "Procedemos a derivar la función respecto a $D$"
   ]
  },
  {
   "cell_type": "code",
   "execution_count": 447,
   "metadata": {},
   "outputs": [
    {
     "data": {
      "image/png": "[encoded data removed]",
      "text/latex": [
       "$\\displaystyle 0.166666666666667 \\pi D h$"
      ],
      "text/plain": [
       "0.166666666666667⋅π⋅D⋅h"
      ]
     },
     "execution_count": 447,
     "metadata": {},
     "output_type": "execute_result"
    }
   ],
   "source": [
    "derivada_volumen = diff(funcion_volumen,D)\n",
    "derivada_volumen"
   ]
  },
  {
   "cell_type": "markdown",
   "metadata": {},
   "source": [
    "# Iteraciones\n",
    "\n",
    "Ahora realizamos el ciclo para obtener el valor del Volmen optimo, manteniendo fijo el valor de $V$ y $h$\n",
    "\n",
    "- Definimos los valores en arreglos para imprimirlos en una tabla\n",
    "- Definimos un ciclo while, con un error con el valor real y con el actual, ademas de añadir los valores recopilados de las variables a los arreglos\n",
    "- Imprimimos la tabla con los resultados"
   ]
  },
  {
   "cell_type": "code",
   "execution_count": 448,
   "metadata": {},
   "outputs": [],
   "source": [
    "# Valor real\n",
    "valor_real:float = 0.138\n",
    "\n",
    "\n",
    "# Arreglos/Listas para la tabla\n",
    "iteraciones:int = []\n",
    "valores_xi:list = []\n",
    "f_x:list = []\n",
    "f_dx:list = []\n",
    "\n",
    "Error_vr:list = []\n",
    "Error_va:list = []\n"
   ]
  },
  {
   "cell_type": "code",
   "execution_count": 449,
   "metadata": {},
   "outputs": [],
   "source": [
    "def newton_raphson() -> None:\n",
    "    # Se define Xi con el valor que nos piden (0.3), para saber si ya encontramos el valor que buscamos, \n",
    "    # y utilizamos el error tambien\n",
    "    Xi:float = 0.3\n",
    "    iteracion:int = 0\n",
    "    Er:float|int= 1\n",
    "\n",
    "    while iteracion < 11:\n",
    "        \n",
    "        #Se agrega una iteracion y se agrega a la lista#\n",
    "        \n",
    "        iteracion += 1\n",
    "        print(iteracion)\n",
    "\n",
    "        iteraciones.append(iteracion)\n",
    "\n",
    "\n",
    "        #Se evalua Xi y se agregan a la lista#\n",
    "        f_xv = funcion_volumen.subs({D : Xi,V : 1.5e-3,h : 0.3}).evalf()\n",
    "        f_x.append(f_xv)\n",
    "\n",
    "        f_dxv = simplify(derivada_volumen.subs({D:Xi, h:0.3})).evalf()\n",
    "        f_dx.append(f_dxv)\n",
    "\n",
    "\n",
    "        #Se calcula el nuevo valor de Xi y se agrega el valor anterior de Xi a la lista utilizando\n",
    "        # Newton Raphson \n",
    "        valor_anterior = Xi\n",
    "        \n",
    "        valores_xi.append(Xi)\n",
    "        \n",
    "        nuevo_valor = Xi - (f_xv/f_dxv)\n",
    "        \n",
    "        Xi = nuevo_valor\n",
    "        \n",
    "        #Se calcula el error con el valor real y el anterior\n",
    "\n",
    "        if iteracion > 1:\n",
    "            #Error con valor anterior\n",
    "            \n",
    "            Ea = abs((nuevo_valor - valor_anterior)/nuevo_valor)\n",
    "            Er = abs((nuevo_valor - valor_real)/valor_real)\n",
    "        \n",
    "            Error_va.append(Ea)\n",
    "            Error_vr.append(Er)\n",
    "\n",
    "        elif iteracion == 1:\n",
    "            Error_va.append(\"None\")\n",
    "            Error_vr.append(\"None\")\n",
    "\n",
    "\n",
    "        print(f_xv,nuevo_valor)\n"
   ]
  },
  {
   "cell_type": "code",
   "execution_count": 450,
   "metadata": {},
   "outputs": [
    {
     "name": "stdout",
     "output_type": "stream",
     "text": [
      "1\n",
      "0.00556858347057703 0.181830988618379\n",
      "2\n",
      "0.00109672333919021 0.143432926338091\n",
      "3\n",
      "0.000115799983826888 0.138293202759540\n",
      "4\n",
      "2.07476735804696e-6 0.138197692792540\n",
      "5\n",
      "7.16452283631554e-10 0.138197659788538\n",
      "6\n",
      "8.58576238130293e-17 0.138197659788534\n",
      "7\n",
      "3.63972152856787e-19 0.138197659788534\n",
      "8\n",
      "-3.17252163160524e-19 0.138197659788534\n",
      "9\n",
      "3.63972152856787e-19 0.138197659788534\n",
      "10\n",
      "-3.17252163160524e-19 0.138197659788534\n",
      "11\n",
      "3.63972152856787e-19 0.138197659788534\n"
     ]
    }
   ],
   "source": [
    "newton_raphson()"
   ]
  },
  {
   "cell_type": "code",
   "execution_count": 451,
   "metadata": {},
   "outputs": [
    {
     "data": {
      "image/png": "[encoded data removed]",
      "text/latex": [
       "$\\displaystyle \\left[ 1, \\  2, \\  3, \\  4, \\  5, \\  6, \\  7, \\  8, \\  9, \\  10, \\  11\\right]$"
      ],
      "text/plain": [
       "[1, 2, 3, 4, 5, 6, 7, 8, 9, 10, 11]"
      ]
     },
     "execution_count": 451,
     "metadata": {},
     "output_type": "execute_result"
    }
   ],
   "source": [
    "iteraciones"
   ]
  },
  {
   "cell_type": "code",
   "execution_count": 452,
   "metadata": {},
   "outputs": [
    {
     "data": {
      "text/html": [
       "<div>\n",
       "<style scoped>\n",
       "    .dataframe tbody tr th:only-of-type {\n",
       "        vertical-align: middle;\n",
       "    }\n",
       "\n",
       "    .dataframe tbody tr th {\n",
       "        vertical-align: top;\n",
       "    }\n",
       "\n",
       "    .dataframe thead th {\n",
       "        text-align: right;\n",
       "    }\n",
       "</style>\n",
       "<table border=\"1\" class=\"dataframe\">\n",
       "  <thead>\n",
       "    <tr style=\"text-align: right;\">\n",
       "      <th></th>\n",
       "      <th>Iteracion</th>\n",
       "      <th>Valores Diametro</th>\n",
       "      <th>Valores f(d)</th>\n",
       "      <th>Valores f'(d)</th>\n",
       "      <th>Error v_real</th>\n",
       "      <th>Error v_anterior</th>\n",
       "    </tr>\n",
       "  </thead>\n",
       "  <tbody>\n",
       "    <tr>\n",
       "      <th>0</th>\n",
       "      <td>1</td>\n",
       "      <td>0.3</td>\n",
       "      <td>0.00556858347057703</td>\n",
       "      <td>0.0471238898038469</td>\n",
       "      <td>None</td>\n",
       "      <td>None</td>\n",
       "    </tr>\n",
       "    <tr>\n",
       "      <th>1</th>\n",
       "      <td>2</td>\n",
       "      <td>0.181830988618379</td>\n",
       "      <td>0.00109672333919021</td>\n",
       "      <td>0.0285619449019234</td>\n",
       "      <td>0.0393690314354437</td>\n",
       "      <td>0.267707445288945</td>\n",
       "    </tr>\n",
       "    <tr>\n",
       "      <th>2</th>\n",
       "      <td>3</td>\n",
       "      <td>0.143432926338091</td>\n",
       "      <td>0.000115799983826888</td>\n",
       "      <td>0.0225303913833317</td>\n",
       "      <td>0.00212465767782895</td>\n",
       "      <td>0.0371654099839427</td>\n",
       "    </tr>\n",
       "    <tr>\n",
       "      <th>3</th>\n",
       "      <td>4</td>\n",
       "      <td>0.138293202759540</td>\n",
       "      <td>2.07476735804696e-6</td>\n",
       "      <td>0.0217230454915388</td>\n",
       "      <td>0.00143255646768039</td>\n",
       "      <td>0.000691111154394445</td>\n",
       "    </tr>\n",
       "    <tr>\n",
       "      <th>4</th>\n",
       "      <td>5</td>\n",
       "      <td>0.138197692792540</td>\n",
       "      <td>7.16452283631554e-10</td>\n",
       "      <td>0.0217080428210051</td>\n",
       "      <td>0.00143231730824739</td>\n",
       "      <td>2.38817370744683e-7</td>\n",
       "    </tr>\n",
       "    <tr>\n",
       "      <th>5</th>\n",
       "      <td>6</td>\n",
       "      <td>0.138197659788538</td>\n",
       "      <td>8.58576238130293e-17</td>\n",
       "      <td>0.0217080376367487</td>\n",
       "      <td>0.00143231730821883</td>\n",
       "      <td>2.85192364577674e-14</td>\n",
       "    </tr>\n",
       "    <tr>\n",
       "      <th>6</th>\n",
       "      <td>7</td>\n",
       "      <td>0.138197659788534</td>\n",
       "      <td>3.63972152856787e-19</td>\n",
       "      <td>0.0217080376367480</td>\n",
       "      <td>0.00143231730821863</td>\n",
       "      <td>2.00839693364559e-16</td>\n",
       "    </tr>\n",
       "    <tr>\n",
       "      <th>7</th>\n",
       "      <td>8</td>\n",
       "      <td>0.138197659788534</td>\n",
       "      <td>-3.17252163160524e-19</td>\n",
       "      <td>0.0217080376367480</td>\n",
       "      <td>0.00143231730821883</td>\n",
       "      <td>2.00839693364559e-16</td>\n",
       "    </tr>\n",
       "    <tr>\n",
       "      <th>8</th>\n",
       "      <td>9</td>\n",
       "      <td>0.138197659788534</td>\n",
       "      <td>3.63972152856787e-19</td>\n",
       "      <td>0.0217080376367480</td>\n",
       "      <td>0.00143231730821863</td>\n",
       "      <td>2.00839693364559e-16</td>\n",
       "    </tr>\n",
       "    <tr>\n",
       "      <th>9</th>\n",
       "      <td>10</td>\n",
       "      <td>0.138197659788534</td>\n",
       "      <td>-3.17252163160524e-19</td>\n",
       "      <td>0.0217080376367480</td>\n",
       "      <td>0.00143231730821883</td>\n",
       "      <td>2.00839693364559e-16</td>\n",
       "    </tr>\n",
       "    <tr>\n",
       "      <th>10</th>\n",
       "      <td>11</td>\n",
       "      <td>0.138197659788534</td>\n",
       "      <td>3.63972152856787e-19</td>\n",
       "      <td>0.0217080376367480</td>\n",
       "      <td>0.00143231730821863</td>\n",
       "      <td>2.00839693364559e-16</td>\n",
       "    </tr>\n",
       "  </tbody>\n",
       "</table>\n",
       "</div>"
      ],
      "text/plain": [
       "    Iteracion   Valores Diametro           Valores f(d)       Valores f'(d)  \\\n",
       "0           1                0.3    0.00556858347057703  0.0471238898038469   \n",
       "1           2  0.181830988618379    0.00109672333919021  0.0285619449019234   \n",
       "2           3  0.143432926338091   0.000115799983826888  0.0225303913833317   \n",
       "3           4  0.138293202759540    2.07476735804696e-6  0.0217230454915388   \n",
       "4           5  0.138197692792540   7.16452283631554e-10  0.0217080428210051   \n",
       "5           6  0.138197659788538   8.58576238130293e-17  0.0217080376367487   \n",
       "6           7  0.138197659788534   3.63972152856787e-19  0.0217080376367480   \n",
       "7           8  0.138197659788534  -3.17252163160524e-19  0.0217080376367480   \n",
       "8           9  0.138197659788534   3.63972152856787e-19  0.0217080376367480   \n",
       "9          10  0.138197659788534  -3.17252163160524e-19  0.0217080376367480   \n",
       "10         11  0.138197659788534   3.63972152856787e-19  0.0217080376367480   \n",
       "\n",
       "           Error v_real      Error v_anterior  \n",
       "0                  None                  None  \n",
       "1    0.0393690314354437     0.267707445288945  \n",
       "2   0.00212465767782895    0.0371654099839427  \n",
       "3   0.00143255646768039  0.000691111154394445  \n",
       "4   0.00143231730824739   2.38817370744683e-7  \n",
       "5   0.00143231730821883  2.85192364577674e-14  \n",
       "6   0.00143231730821863  2.00839693364559e-16  \n",
       "7   0.00143231730821883  2.00839693364559e-16  \n",
       "8   0.00143231730821863  2.00839693364559e-16  \n",
       "9   0.00143231730821883  2.00839693364559e-16  \n",
       "10  0.00143231730821863  2.00839693364559e-16  "
      ]
     },
     "execution_count": 452,
     "metadata": {},
     "output_type": "execute_result"
    }
   ],
   "source": [
    "pd.DataFrame({\"Iteracion\":iteraciones,\"Valores Diametro\":valores_xi,\"Valores f(d)\":f_x,\"Valores f'(d)\":f_dx,\"Error v_real\":Error_vr,\"Error v_anterior\":Error_va})"
   ]
  },
  {
   "cell_type": "code",
   "execution_count": 453,
   "metadata": {},
   "outputs": [],
   "source": [
    "import seaborn as sb\n",
    "import matplotlib.pyplot as plt"
   ]
  },
  {
   "cell_type": "code",
   "execution_count": 454,
   "metadata": {},
   "outputs": [],
   "source": [
    "df = pd.DataFrame({'x':iteraciones,'y':valores_xi})\n",
    "df[\"x\"] = df[\"x\"].astype(float)\n",
    "df[\"y\"] = df[\"y\"].astype(float)\n"
   ]
  },
  {
   "cell_type": "code",
   "execution_count": 455,
   "metadata": {},
   "outputs": [
    {
     "data": {
      "image/png": "[encoded data removed]",
      "text/plain": [
       "<Figure size 640x480 with 1 Axes>"
      ]
     },
     "metadata": {},
     "output_type": "display_data"
    }
   ],
   "source": [
    "sb.lineplot(x='x',y = 'y',data= df)\n",
    "plt.show()"
   ]
  },
  {
   "cell_type": "markdown",
   "metadata": {},
   "source": [
    "# Metodo de la Secante "
   ]
  }
 ],
 "metadata": {
  "kernelspec": {
   "display_name": "Python 3",
   "language": "python",
   "name": "python3"
  },
  "language_info": {
   "codemirror_mode": {
    "name": "ipython",
    "version": 3
   },
   "file_extension": ".py",
   "mimetype": "text/x-python",
   "name": "python",
   "nbconvert_exporter": "python",
   "pygments_lexer": "ipython3",
   "version": "3.13.1"
  }
 },
 "nbformat": 4,
 "nbformat_minor": 2
}
