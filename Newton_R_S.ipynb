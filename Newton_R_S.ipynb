{
 "cells": [
  {
   "cell_type": "code",
   "execution_count": 111,
   "metadata": {},
   "outputs": [],
   "source": [
    "from typing import Optional,Any,Literal\n",
    "import pandas as pd\n",
    "from sympy import pi,symbols,diff,init_printing,nsimplify,Rational,sympify,substitution,simplify,evalf,lambdify"
   ]
  },
  {
   "cell_type": "markdown",
   "metadata": {},
   "source": [
    "\n",
    "# Problema\n",
    "\n",
    "Un fabricante de botellas desea calcular el diametro D de la base de una botella cónica, dado que tiene un volumen ($V$) deseado y una altura ($h$). Siendo la formula del cono la siguiente:\n",
    "\n",
    "$$V = \\frac{1}{3} \\pi (\\frac{D}{2})^2 h$$\n",
    " "
   ]
  },
  {
   "cell_type": "markdown",
   "metadata": {},
   "source": [
    "# Datos\n",
    "## Se proporcionan los siguientes datos\n",
    "\n",
    "**Volumen deseado (V)** = $1.5x10^{-3}$ $m^3$ \n",
    "\n",
    "**Altura de botella (h)** = $0.3m$ "
   ]
  },
  {
   "cell_type": "markdown",
   "metadata": {},
   "source": [
    "# Instrucciones\n",
    "\n",
    "**Se trabajarará con la siguiente función, que se pide como entrada**\n",
    "$$ f(D) = \\frac{1}{3} \\pi (\\frac{D}{2})^2 h - V$$\n",
    "\n"
   ]
  },
  {
   "cell_type": "code",
   "execution_count": 14,
   "metadata": {},
   "outputs": [],
   "source": [
    "#Se pide el valor de la función#\n",
    "f_D:str = input(\"Ingresa una funcion en terminos de 3 variables, D,h y V\")\n"
   ]
  },
  {
   "cell_type": "code",
   "execution_count": 15,
   "metadata": {},
   "outputs": [
    {
     "data": {
      "text/latex": [
       "$\\displaystyle \\frac{\\pi D^{2} h}{12} - V$"
      ],
      "text/plain": [
       "pi*D**2*h/12 - V"
      ]
     },
     "execution_count": 15,
     "metadata": {},
     "output_type": "execute_result"
    }
   ],
   "source": [
    "#Se convierte el arreglo de caracteres en una funcion simbolica#\n",
    "f_Ds = sympify(f_D)\n",
    "f_Ds"
   ]
  },
  {
   "cell_type": "markdown",
   "metadata": {},
   "source": [
    "# Metodo Newton-Ralphson\n",
    "\n",
    "Se trabajara con $D_0 = 0.3 m$\n",
    "\n",
    "Primero definimos las variables simbolicas y además ocuparemos tambien derivar la funcion antes de inicializar las iteraciones"
   ]
  },
  {
   "cell_type": "code",
   "execution_count": 16,
   "metadata": {},
   "outputs": [],
   "source": [
    "init_printing()\n",
    "#Se definen las variables simbolicas#\n",
    "D,h,V = symbols('D h V')\n",
    "#funcion_volumen = 1/3*pi*(D/2)**2*h-V\n"
   ]
  },
  {
   "cell_type": "markdown",
   "metadata": {},
   "source": [
    "Procedemos a derivar la función respecto a $D$"
   ]
  },
  {
   "cell_type": "code",
   "execution_count": 17,
   "metadata": {},
   "outputs": [
    {
     "data": {
      "image/png": "[encoded data removed]",
      "text/latex": [
       "$\\displaystyle \\frac{\\pi D h}{6}$"
      ],
      "text/plain": [
       "π⋅D⋅h\n",
       "─────\n",
       "  6  "
      ]
     },
     "execution_count": 17,
     "metadata": {},
     "output_type": "execute_result"
    }
   ],
   "source": [
    "derivada_volumen = diff(f_Ds,D)\n",
    "derivada_volumen"
   ]
  },
  {
   "cell_type": "markdown",
   "metadata": {},
   "source": [
    "# Iteraciones\n",
    "\n",
    "Ahora realizamos el ciclo para obtener el valor del Volmen optimo, manteniendo fijo el valor de $V$ y $h$\n",
    "\n",
    "- Definimos los valores en arreglos para imprimirlos en una tabla\n",
    "- Definimos un ciclo while, con un error con el valor real y con el actual, ademas de añadir los valores recopilados de las variables a los arreglos\n",
    "- Imprimimos la tabla con los resultados"
   ]
  },
  {
   "cell_type": "markdown",
   "metadata": {},
   "source": [
    "- Utilizamos la formula de Newton-Raphson para encontrar la raíz\n",
    "\n",
    "**$X_{i+1} = X_i - \\frac{f(x)}{f'(x)} $**\n"
   ]
  },
  {
   "cell_type": "code",
   "execution_count": 18,
   "metadata": {},
   "outputs": [],
   "source": [
    "# Valor real\n",
    "valor_real:float = 0.138\n",
    "\n",
    "\n",
    "# Arreglos/Listas para la tabla\n",
    "iteraciones:int = []\n",
    "valores_xi:list = []\n",
    "f_x:list = []\n",
    "f_dx:list = []\n",
    "\n",
    "Error_vr:list = []\n",
    "Error_va:list = []\n"
   ]
  },
  {
   "cell_type": "markdown",
   "metadata": {},
   "source": [
    "# Input \n",
    "**Se solicita un valor inicial con input**\n"
   ]
  },
  {
   "cell_type": "code",
   "execution_count": 19,
   "metadata": {},
   "outputs": [],
   "source": [
    "#Se define un valor inicial a Xi\n",
    "Xi = float(input('Define un valor inicial a Xi'))"
   ]
  },
  {
   "cell_type": "markdown",
   "metadata": {},
   "source": [
    "**Se solicita una tolerancia**"
   ]
  },
  {
   "cell_type": "code",
   "execution_count": 20,
   "metadata": {},
   "outputs": [],
   "source": [
    "#Input que convierte el string de la tolerancia en un valor double, o flotante\n",
    "tolerancia = float(input('Ingresa el valor de la tolerancia Ej.(0.01)'))"
   ]
  },
  {
   "cell_type": "code",
   "execution_count": 21,
   "metadata": {},
   "outputs": [],
   "source": [
    "def newton_raphson() -> None:\n",
    "    # Se define Xi con el valor que nos piden (0.3), para saber si ya encontramos el valor que buscamos, \n",
    "    # y utilizamos el error tambien\n",
    "    value = Xi\n",
    "    iteracion:int = 0\n",
    "    Er:float|int= 1\n",
    "\n",
    "    while Er > tolerancia:\n",
    "        \n",
    "        #Se agrega una iteracion y se agrega a la lista#\n",
    "        \n",
    "        iteracion += 1\n",
    "        print(iteracion)\n",
    "\n",
    "        iteraciones.append(iteracion)\n",
    "\n",
    "\n",
    "        #Se evalua Xi y se agregan a la lista#\n",
    "        f_xv = f_Ds.subs({D : value,V : 1.5e-3,h : 0.3}).evalf()\n",
    "        f_x.append(f_xv)\n",
    "\n",
    "        f_dxv = simplify(derivada_volumen.subs({D:value, h:0.3})).evalf()\n",
    "        f_dx.append(f_dxv)\n",
    "\n",
    "\n",
    "        #Se calcula el nuevo valor de Xi y se agrega el valor anterior de Xi a la lista utilizando\n",
    "        # Newton Raphson \n",
    "        valor_anterior = value\n",
    "        \n",
    "        valores_xi.append(value)\n",
    "        \n",
    "        nuevo_valor = value - (f_xv/f_dxv)\n",
    "        \n",
    "        value = nuevo_valor\n",
    "        \n",
    "        #Se calcula el error con el valor real y el anterior\n",
    "\n",
    "        if iteracion > 1:\n",
    "            #Error con valor anterior\n",
    "            \n",
    "            Ea = abs((nuevo_valor - valor_anterior)/nuevo_valor)\n",
    "            Er = abs((nuevo_valor - valor_real)/valor_real)\n",
    "        \n",
    "            Error_va.append(Ea)\n",
    "            Error_vr.append(Er)\n",
    "\n",
    "        elif iteracion == 1:\n",
    "            Error_va.append(\"None\")\n",
    "            Error_vr.append(\"None\")\n",
    "\n",
    "\n",
    "        print(f_xv,nuevo_valor)\n"
   ]
  },
  {
   "cell_type": "code",
   "execution_count": 22,
   "metadata": {},
   "outputs": [
    {
     "name": "stdout",
     "output_type": "stream",
     "text": [
      "1\n",
      "0.00556858347057703 0.181830988618379\n",
      "2\n",
      "0.00109672333919021 0.143432926338091\n",
      "3\n",
      "0.000115799983826888 0.138293202759540\n"
     ]
    }
   ],
   "source": [
    "newton_raphson()"
   ]
  },
  {
   "cell_type": "code",
   "execution_count": 23,
   "metadata": {},
   "outputs": [
    {
     "data": {
      "image/png": "[encoded data removed]",
      "text/latex": [
       "$\\displaystyle \\left[ 1, \\  2, \\  3\\right]$"
      ],
      "text/plain": [
       "[1, 2, 3]"
      ]
     },
     "execution_count": 23,
     "metadata": {},
     "output_type": "execute_result"
    }
   ],
   "source": [
    "iteraciones"
   ]
  },
  {
   "cell_type": "code",
   "execution_count": 24,
   "metadata": {},
   "outputs": [
    {
     "data": {
      "text/html": [
       "<div>\n",
       "<style scoped>\n",
       "    .dataframe tbody tr th:only-of-type {\n",
       "        vertical-align: middle;\n",
       "    }\n",
       "\n",
       "    .dataframe tbody tr th {\n",
       "        vertical-align: top;\n",
       "    }\n",
       "\n",
       "    .dataframe thead th {\n",
       "        text-align: right;\n",
       "    }\n",
       "</style>\n",
       "<table border=\"1\" class=\"dataframe\">\n",
       "  <thead>\n",
       "    <tr style=\"text-align: right;\">\n",
       "      <th></th>\n",
       "      <th>Iteracion</th>\n",
       "      <th>Valores Diametro</th>\n",
       "      <th>Valores f(d)</th>\n",
       "      <th>Valores f'(d)</th>\n",
       "      <th>Error v_real</th>\n",
       "      <th>Error v_anterior</th>\n",
       "    </tr>\n",
       "  </thead>\n",
       "  <tbody>\n",
       "    <tr>\n",
       "      <th>0</th>\n",
       "      <td>1</td>\n",
       "      <td>0.3</td>\n",
       "      <td>0.00556858347057703</td>\n",
       "      <td>0.0471238898038469</td>\n",
       "      <td>None</td>\n",
       "      <td>None</td>\n",
       "    </tr>\n",
       "    <tr>\n",
       "      <th>1</th>\n",
       "      <td>2</td>\n",
       "      <td>0.181830988618379</td>\n",
       "      <td>0.00109672333919021</td>\n",
       "      <td>0.0285619449019234</td>\n",
       "      <td>0.0393690314354437</td>\n",
       "      <td>0.267707445288945</td>\n",
       "    </tr>\n",
       "    <tr>\n",
       "      <th>2</th>\n",
       "      <td>3</td>\n",
       "      <td>0.143432926338091</td>\n",
       "      <td>0.000115799983826888</td>\n",
       "      <td>0.0225303913833317</td>\n",
       "      <td>0.00212465767782895</td>\n",
       "      <td>0.0371654099839427</td>\n",
       "    </tr>\n",
       "  </tbody>\n",
       "</table>\n",
       "</div>"
      ],
      "text/plain": [
       "   Iteracion   Valores Diametro          Valores f(d)       Valores f'(d)  \\\n",
       "0          1                0.3   0.00556858347057703  0.0471238898038469   \n",
       "1          2  0.181830988618379   0.00109672333919021  0.0285619449019234   \n",
       "2          3  0.143432926338091  0.000115799983826888  0.0225303913833317   \n",
       "\n",
       "          Error v_real    Error v_anterior  \n",
       "0                 None                None  \n",
       "1   0.0393690314354437   0.267707445288945  \n",
       "2  0.00212465767782895  0.0371654099839427  "
      ]
     },
     "execution_count": 24,
     "metadata": {},
     "output_type": "execute_result"
    }
   ],
   "source": [
    "pd.DataFrame({\"Iteracion\":iteraciones,\"Valores Diametro\":valores_xi,\"Valores f(d)\":f_x,\"Valores f'(d)\":f_dx,\"Error v_real\":Error_vr,\"Error v_anterior\":Error_va})"
   ]
  },
  {
   "cell_type": "code",
   "execution_count": 25,
   "metadata": {},
   "outputs": [],
   "source": [
    "import seaborn as sb\n",
    "import matplotlib.pyplot as plt"
   ]
  },
  {
   "cell_type": "code",
   "execution_count": 99,
   "metadata": {},
   "outputs": [],
   "source": [
    "df = pd.DataFrame({'Iteraciones':iteraciones,'Valores':valores_xi})\n",
    "df[\"Iteraciones\"] = df[\"Iteraciones\"].astype(float)\n",
    "df[\"Valores\"] = df[\"Valores\"].astype(float)\n"
   ]
  },
  {
   "cell_type": "code",
   "execution_count": 100,
   "metadata": {},
   "outputs": [
    {
     "data": {
      "image/png": "[encoded data removed]",
      "text/plain": [
       "<Figure size 640x480 with 1 Axes>"
      ]
     },
     "metadata": {},
     "output_type": "display_data"
    }
   ],
   "source": [
    "sb.lineplot(x='Iteraciones',y = 'Valores',data= df)\n",
    "plt.show()"
   ]
  },
  {
   "cell_type": "markdown",
   "metadata": {},
   "source": [
    "# Metodo de la Secante \n",
    "\n",
    "**Se define a continuacion la función que utiliza la secante como método**"
   ]
  },
  {
   "cell_type": "markdown",
   "metadata": {},
   "source": [
    "Se almacenan los datos en el siguiente arreglo"
   ]
  },
  {
   "cell_type": "code",
   "execution_count": 81,
   "metadata": {},
   "outputs": [],
   "source": [
    "iteraciones_secante:list = []\n",
    "\n",
    "valores_xi_1_sec:list = [] # Valores de Xi-1\n",
    "valores_xi_sec:list = [] # Valores de Xi\n",
    "valores_xi_posterior:list = [] #Valores de Xi+1\n",
    "\n",
    "fx_1secante:list = []\n",
    "fx_secante:list =[] # \n",
    "\n",
    "Error_va_secante:list = []\n"
   ]
  },
  {
   "cell_type": "markdown",
   "metadata": {},
   "source": [
    "Se solicitan los valores de Xi y de Xi-1"
   ]
  },
  {
   "cell_type": "code",
   "execution_count": 29,
   "metadata": {},
   "outputs": [],
   "source": [
    "Xi_secante:float = float(input('Ingresa el Valor inicial para el metodo de la secante (Xi)'))\n",
    "Xi_1:float = float(input('Ingresa el Valor anterior para el metodo de la secante (Xi-1)'))"
   ]
  },
  {
   "cell_type": "markdown",
   "metadata": {},
   "source": [
    "# Iteraciones\n",
    "\n",
    "- Se realiza el ciclo con la formula de la secante para el calculo de la raíz\n",
    "- Se utilizan los valores de los inputs previamente solicitados\n",
    "- En este caso no es necesario derivar, por lo que se descarta la función derivada\n",
    "\n",
    "## $X_{i+1} = X_i - \\frac{f(Xi)(X_{i-1} - X_i)}{f(X_{i-1}) - f(X_i)}$"
   ]
  },
  {
   "cell_type": "code",
   "execution_count": 82,
   "metadata": {},
   "outputs": [],
   "source": [
    "def secante() -> None:\n",
    "    value_xi = Xi_secante\n",
    "    valuex_1 = Xi_1\n",
    "\n",
    "    iteracion:int = 0\n",
    "    Ea:float|int = 1\n",
    "\n",
    "    while Ea > tolerancia:\n",
    "\n",
    "        \n",
    "        #Se agrega una iteracion y se agrega a la lista#\n",
    "        iteracion += 1\n",
    "        print(iteracion)\n",
    "\n",
    "        \n",
    "        iteraciones_secante.append(iteracion)\n",
    "\n",
    "        #Se agregan los valores a la lista de Xi y Xi-1 antes de ser cambiados\n",
    "        valores_xi_1_sec.append(valuex_1); valores_xi_sec.append(value_xi)\n",
    "\n",
    "\n",
    "\n",
    "        # Se evalua Xi y Xi-1 para agregarse a las listas #\n",
    "        fxi_1_value = f_Ds.subs({D:valuex_1, V: 1.5e-3, h: 0.3}).evalf() # Evaluacion Xi-1\n",
    "        fx_1secante.append(fxi_1_value)\n",
    "\n",
    "\n",
    "        fxi_value = f_Ds.subs({D:value_xi, V: 1.5e-3, h:0.3}).evalf() # Evaluacion Xi\n",
    "        fx_secante.append(fxi_value)\n",
    "\n",
    "        xi_posterior = value_xi - (fxi_value*(valuex_1 - value_xi))/(fxi_1_value - fxi_value) #Calculo de Xi+1\n",
    "\n",
    "        #Se añade Xi a la lista\n",
    "        valores_xi_posterior.append(xi_posterior)\n",
    "\n",
    "\n",
    "        #Se guardan las variables para calcular el error antes de cambiarlo\n",
    "        valor_anterior = value_xi\n",
    "        valor_nuevo = xi_posterior\n",
    "\n",
    "        valuex_1 = value_xi; value_xi = xi_posterior; \n",
    "\n",
    "        if iteracion > 1:\n",
    "            #Se calcula el error con el valor actual y el anterior en caso de ser la segunda iteración\n",
    "            Ea = abs((valor_nuevo - valor_anterior)/valor_nuevo)\n",
    "            \n",
    "            #Se añade el error a la lista de la tabla\n",
    "\n",
    "            Error_va_secante.append(Ea)\n",
    "            \n",
    "        elif iteracion == 1:\n",
    "            Error_va_secante.append(\"None\")\n",
    "\n",
    "\n",
    "\n",
    "        \n",
    "\n",
    "\n"
   ]
  },
  {
   "cell_type": "code",
   "execution_count": 83,
   "metadata": {},
   "outputs": [
    {
     "name": "stdout",
     "output_type": "stream",
     "text": [
      "1\n",
      "2\n",
      "3\n",
      "4\n"
     ]
    }
   ],
   "source": [
    "secante()"
   ]
  },
  {
   "cell_type": "code",
   "execution_count": 86,
   "metadata": {},
   "outputs": [
    {
     "data": {
      "text/html": [
       "<div>\n",
       "<style scoped>\n",
       "    .dataframe tbody tr th:only-of-type {\n",
       "        vertical-align: middle;\n",
       "    }\n",
       "\n",
       "    .dataframe tbody tr th {\n",
       "        vertical-align: top;\n",
       "    }\n",
       "\n",
       "    .dataframe thead th {\n",
       "        text-align: right;\n",
       "    }\n",
       "</style>\n",
       "<table border=\"1\" class=\"dataframe\">\n",
       "  <thead>\n",
       "    <tr style=\"text-align: right;\">\n",
       "      <th></th>\n",
       "      <th>Iteracion</th>\n",
       "      <th>Valores D Anteriores (Xi-1)</th>\n",
       "      <th>Valores D (Xi)</th>\n",
       "      <th>Valores D Posteriores (Xi+1)</th>\n",
       "      <th>f(Xi-1)</th>\n",
       "      <th>f(Xi)</th>\n",
       "      <th>Error aprox</th>\n",
       "    </tr>\n",
       "  </thead>\n",
       "  <tbody>\n",
       "    <tr>\n",
       "      <th>0</th>\n",
       "      <td>1</td>\n",
       "      <td>0.2</td>\n",
       "      <td>0.4</td>\n",
       "      <td>0.165164321951712</td>\n",
       "      <td>0.00164159265358979</td>\n",
       "      <td>0.0110663706143592</td>\n",
       "      <td>None</td>\n",
       "    </tr>\n",
       "    <tr>\n",
       "      <th>1</th>\n",
       "      <td>2</td>\n",
       "      <td>0.4</td>\n",
       "      <td>0.165164321951712</td>\n",
       "      <td>0.150689487364683</td>\n",
       "      <td>0.0110663706143592</td>\n",
       "      <td>0.000642507539808078</td>\n",
       "      <td>0.0960573616658376</td>\n",
       "    </tr>\n",
       "    <tr>\n",
       "      <th>2</th>\n",
       "      <td>3</td>\n",
       "      <td>0.165164321951712</td>\n",
       "      <td>0.150689487364683</td>\n",
       "      <td>0.139264175005735</td>\n",
       "      <td>0.000642507539808078</td>\n",
       "      <td>0.000283428868206748</td>\n",
       "      <td>0.0820405704372868</td>\n",
       "    </tr>\n",
       "    <tr>\n",
       "      <th>3</th>\n",
       "      <td>4</td>\n",
       "      <td>0.150689487364683</td>\n",
       "      <td>0.139264175005735</td>\n",
       "      <td>0.138243607558573</td>\n",
       "      <td>0.000283428868206748</td>\n",
       "      <td>2.32412879590556e-5</td>\n",
       "      <td>0.00738238436615561</td>\n",
       "    </tr>\n",
       "  </tbody>\n",
       "</table>\n",
       "</div>"
      ],
      "text/plain": [
       "   Iteracion Valores D Anteriores (Xi-1)     Valores D (Xi)  \\\n",
       "0          1                         0.2                0.4   \n",
       "1          2                         0.4  0.165164321951712   \n",
       "2          3           0.165164321951712  0.150689487364683   \n",
       "3          4           0.150689487364683  0.139264175005735   \n",
       "\n",
       "  Valores D Posteriores (Xi+1)               f(Xi-1)                 f(Xi)  \\\n",
       "0            0.165164321951712   0.00164159265358979    0.0110663706143592   \n",
       "1            0.150689487364683    0.0110663706143592  0.000642507539808078   \n",
       "2            0.139264175005735  0.000642507539808078  0.000283428868206748   \n",
       "3            0.138243607558573  0.000283428868206748   2.32412879590556e-5   \n",
       "\n",
       "           Error aprox  \n",
       "0                 None  \n",
       "1   0.0960573616658376  \n",
       "2   0.0820405704372868  \n",
       "3  0.00738238436615561  "
      ]
     },
     "execution_count": 86,
     "metadata": {},
     "output_type": "execute_result"
    }
   ],
   "source": [
    "pd.DataFrame({\"Iteracion\":iteraciones_secante,\"Valores D Anteriores (Xi-1)\":valores_xi_1_sec,\"Valores D (Xi)\":valores_xi_sec,\"Valores D Posteriores (Xi+1)\":valores_xi_posterior,\"f(Xi-1)\":fx_1secante,\"f(Xi)\":fx_secante, \"Error aprox\": Error_va_secante})"
   ]
  },
  {
   "cell_type": "code",
   "execution_count": 104,
   "metadata": {},
   "outputs": [],
   "source": [
    "sec = pd.DataFrame({\"Iteracion\":iteraciones_secante, \"Values\":valores_xi_sec})\n",
    "sec[\"Iteracion\"] = sec[\"Iteracion\"].astype(int)\n",
    "sec[\"Values\"] = sec[\"Values\"].astype(float)\n"
   ]
  },
  {
   "cell_type": "code",
   "execution_count": 105,
   "metadata": {},
   "outputs": [
    {
     "data": {
      "image/png": "[encoded data removed]",
      "text/plain": [
       "<Figure size 640x480 with 1 Axes>"
      ]
     },
     "metadata": {},
     "output_type": "display_data"
    }
   ],
   "source": [
    "sb.lineplot(x = 'Iteracion', y = 'Values', data = sec)\n",
    "plt.show()"
   ]
  },
  {
   "cell_type": "markdown",
   "metadata": {},
   "source": [
    "# Se grafican las funciones para analizar su resultado\n",
    "\n",
    "- Se muestran los puntos de los metodos en la grafica original"
   ]
  },
  {
   "cell_type": "code",
   "execution_count": 106,
   "metadata": {},
   "outputs": [],
   "source": [
    "import numpy as np"
   ]
  },
  {
   "cell_type": "code",
   "execution_count": 114,
   "metadata": {},
   "outputs": [],
   "source": [
    "f_evaluable = lambdify(D,f_Ds.subs({V:1.5e-3,h:0.3}), \"numpy\")"
   ]
  },
  {
   "cell_type": "code",
   "execution_count": 142,
   "metadata": {},
   "outputs": [],
   "source": [
    "x_vals = np.linspace(-1,10,20)\n",
    "y_vals = f_evaluable(x_vals)"
   ]
  },
  {
   "cell_type": "code",
   "execution_count": null,
   "metadata": {},
   "outputs": [
    {
     "data": {
      "text/plain": [
       "<matplotlib.collections.PathCollection at 0x219ffa69310>"
      ]
     },
     "execution_count": 148,
     "metadata": {},
     "output_type": "execute_result"
    },
    {
     "data": {
      "image/png": "[encoded data removed]",
      "text/plain": [
       "<Figure size 640x480 with 1 Axes>"
      ]
     },
     "metadata": {},
     "output_type": "display_data"
    }
   ],
   "source": [
    "plt.plot(x_vals,y_vals,label =\"Prueba\", color = 'b')\n",
    "plt.axhline(0, color=\"black\", linewidth=0.5)\n",
    "plt.axvline(0, color=\"black\", linewidth=0.5)\n",
    "\n",
    "#Metodo Newton Raphson\n",
    "plt.scatter(valores_xi[-1], f_x[-1], color = 'g', marker = '|', s = 100)\n",
    "\n",
    "#Metodo Secante\n",
    "plt.scatter(valores_xi_sec[-1],fx_1secante[-1], color = 'r', marker= 'x', s = 100, label = \"Secante\")"
   ]
  }
 ],
 "metadata": {
  "kernelspec": {
   "display_name": "Python 3",
   "language": "python",
   "name": "python3"
  },
  "language_info": {
   "codemirror_mode": {
    "name": "ipython",
    "version": 3
   },
   "file_extension": ".py",
   "mimetype": "text/x-python",
   "name": "python",
   "nbconvert_exporter": "python",
   "pygments_lexer": "ipython3",
   "version": "3.13.1"
  }
 },
 "nbformat": 4,
 "nbformat_minor": 2
}
